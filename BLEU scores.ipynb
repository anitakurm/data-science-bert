{
 "cells": [
  {
   "cell_type": "markdown",
   "metadata": {},
   "source": [
    "# BLEU scores to compare BERT to DistilBERT\n"
   ]
  },
  {
   "cell_type": "code",
   "execution_count": 71,
   "metadata": {},
   "outputs": [],
   "source": [
    "import nltk\n",
    "import json\n",
    "import re\n",
    "import numpy\n",
    "import pandas as pd"
   ]
  },
  {
   "cell_type": "markdown",
   "metadata": {},
   "source": [
    "### Adjust the BLEU function to take two inputs at once\n",
    "The original BLEU function compares one translation to several golden standards, but we want to compare the performance of BERT and DistilBERT's outputs to the golden standard - correct answers.\n",
    "\n",
    "BLEU takes an input of the whole document, split as words, and calculates the n-gram scores based on that. Our dataset has small answers per questions but due to the way BLEU works most optimally we will 1st append all the answers together into one document that will be split by word per BERT and DistilBERT results.\n",
    "\n",
    "We will 2ndly calculate the BLEU scores per question-answer pair in the dataset and see if it could be meaningful. Some of the answers might be too short to make meaning out of some of the n-grams, but it could give us a better idea of what's happening in the dataset."
   ]
  },
  {
   "cell_type": "markdown",
   "metadata": {},
   "source": [
    "#### BLEU function 1 - takes in full documents per BERT and DistilBERT outputs"
   ]
  },
  {
   "cell_type": "code",
   "execution_count": 72,
   "metadata": {},
   "outputs": [],
   "source": [
    "# Define the function to calculate BLEU scores for more than one inputs\n",
    "def bleu_lists(golden_standard, text1, text2):\n",
    "    # n-gram weights list - based on the weights we get 1-grams, 2-grams, 3-grams and 4-grams\n",
    "    weight_list = [(1,0,0,0), (0.5,0.5,0,0), (0.33,0.33,0.33,0), (0.25,0.25,0.25,0.25)]\n",
    "    # List of input texts\n",
    "    texts = [text1, text2]\n",
    "    # n-gram lists for text1 and text2\n",
    "    ngram_list = [[],[]]\n",
    "\n",
    "    # Loop over texts in text list\n",
    "    for txt in texts:\n",
    "        #Here we get around the issue with BLEU only taking in one text by only feeding it one text\n",
    "        # For BERT files\n",
    "        if txt == text1:\n",
    "            for i in weight_list:\n",
    "                # Append bleu scores - call the bleu function on text1 and loop over the n-gram weights\n",
    "                ngram_list[0].append(nltk.translate.bleu_score.sentence_bleu([golden_standard], txt, weights = i))\n",
    "        # For DistilBERT files\n",
    "        if txt == text2:\n",
    "            for i in weight_list:\n",
    "                ngram_list[1].append(nltk.translate.bleu_score.sentence_bleu([golden_standard], txt, weights = i))\n",
    "    \n",
    "    # The output of the for loop is ngram_list which has both the bleu scores of text1 and text2, I want a nice decent dataframe as the output\n",
    "    # Make a results dataframe\n",
    "    df = pd.DataFrame(ngram_list, index =['BERT', 'DistilBERT'], columns = [\"1-gram\", \"2-gram\", \"3-gram\", \"4-gram\"]) \n",
    "    return(df)"
   ]
  },
  {
   "cell_type": "code",
   "execution_count": 73,
   "metadata": {},
   "outputs": [
    {
     "data": {
      "text/html": [
       "<div>\n",
       "<style scoped>\n",
       "    .dataframe tbody tr th:only-of-type {\n",
       "        vertical-align: middle;\n",
       "    }\n",
       "\n",
       "    .dataframe tbody tr th {\n",
       "        vertical-align: top;\n",
       "    }\n",
       "\n",
       "    .dataframe thead th {\n",
       "        text-align: right;\n",
       "    }\n",
       "</style>\n",
       "<table border=\"1\" class=\"dataframe\">\n",
       "  <thead>\n",
       "    <tr style=\"text-align: right;\">\n",
       "      <th></th>\n",
       "      <th>1-gram</th>\n",
       "      <th>2-gram</th>\n",
       "      <th>3-gram</th>\n",
       "      <th>4-gram</th>\n",
       "    </tr>\n",
       "  </thead>\n",
       "  <tbody>\n",
       "    <tr>\n",
       "      <th>BERT</th>\n",
       "      <td>0.846482</td>\n",
       "      <td>0.757116</td>\n",
       "      <td>0.625601</td>\n",
       "      <td>0.511508</td>\n",
       "    </tr>\n",
       "    <tr>\n",
       "      <th>DistilBERT</th>\n",
       "      <td>0.555556</td>\n",
       "      <td>0.456435</td>\n",
       "      <td>0.394138</td>\n",
       "      <td>0.315598</td>\n",
       "    </tr>\n",
       "  </tbody>\n",
       "</table>\n",
       "</div>"
      ],
      "text/plain": [
       "              1-gram    2-gram    3-gram    4-gram\n",
       "BERT        0.846482  0.757116  0.625601  0.511508\n",
       "DistilBERT  0.555556  0.456435  0.394138  0.315598"
      ]
     },
     "execution_count": 73,
     "metadata": {},
     "output_type": "execute_result"
    }
   ],
   "source": [
    "# Trying it out - lets make some fake data\n",
    "bert = 'hi hello lots more lots more'\n",
    "distil = 'i dont know but hi lots more lots more'\n",
    "gold = 'hi hello there lots more lots more'\n",
    "\n",
    "# The input texts need to be split strings, run the function\n",
    "bleu_lists(gold.split(), bert.split(), distil.split())"
   ]
  },
  {
   "cell_type": "markdown",
   "metadata": {},
   "source": [
    "#### BLEU function 2 - calculates a BLEU score per line in the documents per BERT and DistilBERT outputs"
   ]
  },
  {
   "cell_type": "code",
   "execution_count": 74,
   "metadata": {},
   "outputs": [],
   "source": [
    "# Define the function to calculate BLEU scores for more than one inputs\n",
    "def bleu_lists_no_df(golden_standard, text1, text2):\n",
    "    # n-gram weights list\n",
    "    weight_list = [(1,0,0,0), (0.5,0.5,0,0), (0.33,0.33,0.33,0), (0.25,0.25,0.25,0.25)]\n",
    "    # List of input texts\n",
    "    texts = [text1, text2]\n",
    "    # n-gram lists for text1 and text2\n",
    "    ngram_list = [[],[]]\n",
    "\n",
    "    # Loop over texts in text list\n",
    "    for txt in texts:\n",
    "        #Here we get around the issue with BLEU only taking in one text by only feeding it one text\n",
    "        # For BERT files\n",
    "        if txt == text1:\n",
    "            for i in weight_list:\n",
    "                # Append bleu scores - call the bleu function on text1 and loop over the n-gram weights\n",
    "                ngram_list[0].append(nltk.translate.bleu_score.sentence_bleu([golden_standard], txt, weights = i))\n",
    "        # For DistilBERT files\n",
    "        if txt == text2:\n",
    "            for i in weight_list:\n",
    "                ngram_list[1].append(nltk.translate.bleu_score.sentence_bleu([golden_standard], txt, weights = i))\n",
    "    \n",
    "    # This one returns ngram_list directly for the function that makes a row per answer\n",
    "    return(ngram_list)"
   ]
  },
  {
   "cell_type": "code",
   "execution_count": 75,
   "metadata": {},
   "outputs": [
    {
     "data": {
      "text/html": [
       "<div>\n",
       "<style scoped>\n",
       "    .dataframe tbody tr th:only-of-type {\n",
       "        vertical-align: middle;\n",
       "    }\n",
       "\n",
       "    .dataframe tbody tr th {\n",
       "        vertical-align: top;\n",
       "    }\n",
       "\n",
       "    .dataframe thead th {\n",
       "        text-align: right;\n",
       "    }\n",
       "</style>\n",
       "<table border=\"1\" class=\"dataframe\">\n",
       "  <thead>\n",
       "    <tr style=\"text-align: right;\">\n",
       "      <th></th>\n",
       "      <th>BERT</th>\n",
       "      <th>DistilBERT</th>\n",
       "      <th>Answers</th>\n",
       "    </tr>\n",
       "  </thead>\n",
       "  <tbody>\n",
       "    <tr>\n",
       "      <th>0</th>\n",
       "      <td>hi hello lots more lots more</td>\n",
       "      <td>i dont know but hi lots more lots more</td>\n",
       "      <td>hi hello there lots more lots more</td>\n",
       "    </tr>\n",
       "    <tr>\n",
       "      <th>1</th>\n",
       "      <td>this is another answer</td>\n",
       "      <td>this is another another answer</td>\n",
       "      <td>this is another one of those answers</td>\n",
       "    </tr>\n",
       "  </tbody>\n",
       "</table>\n",
       "</div>"
      ],
      "text/plain": [
       "                           BERT                              DistilBERT  \\\n",
       "0  hi hello lots more lots more  i dont know but hi lots more lots more   \n",
       "1        this is another answer          this is another another answer   \n",
       "\n",
       "                                Answers  \n",
       "0    hi hello there lots more lots more  \n",
       "1  this is another one of those answers  "
      ]
     },
     "execution_count": 75,
     "metadata": {},
     "output_type": "execute_result"
    }
   ],
   "source": [
    "# Trying it out - lets make some fake data that has several rows\n",
    "bert = ['hi hello lots more lots more', \"this is another answer\"]\n",
    "distil = ['i dont know but hi lots more lots more', \"this is another another answer\"]\n",
    "gold = ['hi hello there lots more lots more', \"this is another one of those answers\"]\n",
    "\n",
    "df = pd.DataFrame(zip(bert, distil, gold), columns=['BERT', 'DistilBERT', 'Answers'])\n",
    "\n",
    "df"
   ]
  },
  {
   "cell_type": "code",
   "execution_count": 76,
   "metadata": {},
   "outputs": [],
   "source": [
    "# Define the function to calculate BLEU scores for more than one inputs\n",
    "# input is a dataframe now\n",
    "def bleu_more(dataset):\n",
    "    # Initiate results dataframe\n",
    "    results = pd.DataFrame()\n",
    "    \n",
    "    for i in range(0,len(dataset)):\n",
    "        # Define the inputs to the bleu function from the dataset\n",
    "        gold = dataset.Answers[i]\n",
    "        bert = dataset.BERT[i]\n",
    "        distil = dataset.DistilBERT[i]\n",
    "        \n",
    "        # Get the bleu scores per line in dataframe with the predefined function\n",
    "        ngram_list = bleu_lists_no_df(gold.split(), bert.split(), distil.split())\n",
    "        \n",
    "        # Append to dataframe, index is model name + iteration\n",
    "        dff = pd.DataFrame(ngram_list, index =['BERT' + str(i), 'DistilBERT' + str(i)], columns = [\"1-gram\", \"2-gram\", \"3-gram\", \"4-gram\"]) \n",
    "        \n",
    "        # Append results to the dataframe\n",
    "        results = results.append(dff)\n",
    "\n",
    "    return(results)"
   ]
  },
  {
   "cell_type": "code",
   "execution_count": 77,
   "metadata": {},
   "outputs": [
    {
     "name": "stderr",
     "output_type": "stream",
     "text": [
      "C:\\Users\\maris\\Anaconda3\\envs\\chcaa_env_2\\lib\\site-packages\\nltk\\translate\\bleu_score.py:523: UserWarning: \n",
      "The hypothesis contains 0 counts of 4-gram overlaps.\n",
      "Therefore the BLEU score evaluates to 0, independently of\n",
      "how many N-gram overlaps of lower order it contains.\n",
      "Consider using lower n-gram order or use SmoothingFunction()\n",
      "  warnings.warn(_msg)\n"
     ]
    },
    {
     "data": {
      "text/html": [
       "<div>\n",
       "<style scoped>\n",
       "    .dataframe tbody tr th:only-of-type {\n",
       "        vertical-align: middle;\n",
       "    }\n",
       "\n",
       "    .dataframe tbody tr th {\n",
       "        vertical-align: top;\n",
       "    }\n",
       "\n",
       "    .dataframe thead th {\n",
       "        text-align: right;\n",
       "    }\n",
       "</style>\n",
       "<table border=\"1\" class=\"dataframe\">\n",
       "  <thead>\n",
       "    <tr style=\"text-align: right;\">\n",
       "      <th></th>\n",
       "      <th>1-gram</th>\n",
       "      <th>2-gram</th>\n",
       "      <th>3-gram</th>\n",
       "      <th>4-gram</th>\n",
       "    </tr>\n",
       "  </thead>\n",
       "  <tbody>\n",
       "    <tr>\n",
       "      <th>BERT0</th>\n",
       "      <td>0.846482</td>\n",
       "      <td>0.757116</td>\n",
       "      <td>0.625601</td>\n",
       "      <td>5.115078e-01</td>\n",
       "    </tr>\n",
       "    <tr>\n",
       "      <th>DistilBERT0</th>\n",
       "      <td>0.555556</td>\n",
       "      <td>0.456435</td>\n",
       "      <td>0.394138</td>\n",
       "      <td>3.155985e-01</td>\n",
       "    </tr>\n",
       "    <tr>\n",
       "      <th>BERT1</th>\n",
       "      <td>0.354275</td>\n",
       "      <td>0.334014</td>\n",
       "      <td>0.298951</td>\n",
       "      <td>4.079437e-78</td>\n",
       "    </tr>\n",
       "    <tr>\n",
       "      <th>DistilBERT1</th>\n",
       "      <td>0.402192</td>\n",
       "      <td>0.367149</td>\n",
       "      <td>0.313532</td>\n",
       "      <td>4.603820e-78</td>\n",
       "    </tr>\n",
       "  </tbody>\n",
       "</table>\n",
       "</div>"
      ],
      "text/plain": [
       "               1-gram    2-gram    3-gram        4-gram\n",
       "BERT0        0.846482  0.757116  0.625601  5.115078e-01\n",
       "DistilBERT0  0.555556  0.456435  0.394138  3.155985e-01\n",
       "BERT1        0.354275  0.334014  0.298951  4.079437e-78\n",
       "DistilBERT1  0.402192  0.367149  0.313532  4.603820e-78"
      ]
     },
     "execution_count": 77,
     "metadata": {},
     "output_type": "execute_result"
    }
   ],
   "source": [
    "# Run the function on the dataframe made previously\n",
    "bleu_more(df)"
   ]
  },
  {
   "cell_type": "code",
   "execution_count": null,
   "metadata": {},
   "outputs": [],
   "source": []
  }
 ],
 "metadata": {
  "kernelspec": {
   "display_name": "Python 3",
   "language": "python",
   "name": "python3"
  },
  "language_info": {
   "codemirror_mode": {
    "name": "ipython",
    "version": 3
   },
   "file_extension": ".py",
   "mimetype": "text/x-python",
   "name": "python",
   "nbconvert_exporter": "python",
   "pygments_lexer": "ipython3",
   "version": "3.7.5"
  }
 },
 "nbformat": 4,
 "nbformat_minor": 2
}
